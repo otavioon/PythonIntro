{
 "cells": [
  {
   "cell_type": "markdown",
   "metadata": {},
   "source": [
    "# Python Tutorial 1\n",
    "\n",
    "Algo aqui...\n",
    "\n",
    "### Python\n",
    "\n",
    "Python é uma linguagem de programação multiparadigma de tipo dinâmico de alto nível. Costuma-se dizer que o código Python é quase como um pseudocódigo, uma vez que permite expressar ideias muito poderosas em poucas linhas de código e, ao mesmo tempo, ser muito legível e eficiente.\n",
    "\n",
    "### Jupyter notebooks\n",
    "\n",
    "Um Jupyter Notebook permite escrever e executar código Python localmente em seu navegador. Os notebooks tornam muito fácil mexer no código e executá-lo em partes e, por esta razão, eles são amplamente utilizados na computação científica. Além disso os notebooks permitem recordar asaída dos comandos o que o torna muito útil para reprodução e compartilhamento."
   ]
  },
  {
   "cell_type": "code",
   "execution_count": 1,
   "metadata": {},
   "outputs": [
    {
     "name": "stdout",
     "output_type": "stream",
     "text": [
      "Esta é uma celula em python e abaixo a saída da mesma. Ao lado da célula háum contador auto incremental e sequencial e mostra a ordem na qual esta celula foi executada.\n"
     ]
    }
   ],
   "source": [
    "print(\"Esta é uma celula em python e abaixo a saída da mesma. Ao lado da célula háum contador auto incremental e sequencial e mostra a ordem na qual esta celula foi executada.\")"
   ]
  },
  {
   "cell_type": "markdown",
   "metadata": {},
   "source": [
    "Além disso, o jupyter notebook permite não só a execução de comandos em Python, tão quanto comandos em Shell. Para tanto os comandos devem iniciar com o caractere ``!``, seguido do comando desejado. Abaixo o comando em shell ``pwd`` utilizado para imprimir o diretório atual e o comando ``python --version`` para imprimir a versão do python atual."
   ]
  },
  {
   "cell_type": "code",
   "execution_count": 2,
   "metadata": {},
   "outputs": [
    {
     "name": "stdout",
     "output_type": "stream",
     "text": [
      "/home/nonroot\n",
      "Python 3.6.9\n"
     ]
    }
   ],
   "source": [
    "!pwd\n",
    "!python --version"
   ]
  },
  {
   "cell_type": "markdown",
   "metadata": {},
   "source": [
    "### Python Pip\n",
    "\n",
    "O Package Installer for Python ([pip](https://pip.pypa.io/en/stable/getting-started/)) é um gerenciador de pacotes para Python. É uma ferramenta que permite instalar e gerenciar bibliotecas e dependências adicionais que não são distribuídas como parte da biblioteca padrão. \n",
    "\n",
    "Abaixo é mostrado como pode ser listado os pacotes (e suas versões) instalados e disponíveis no sistema."
   ]
  },
  {
   "cell_type": "code",
   "execution_count": 3,
   "metadata": {},
   "outputs": [
    {
     "name": "stdout",
     "output_type": "stream",
     "text": [
      "Package                Version\n",
      "---------------------- -----------------------\n",
      "absl-py                0.10.0\n",
      "argon2-cffi            20.1.0\n",
      "astor                  0.8.1\n",
      "astunparse             1.6.3\n",
      "attrs                  20.1.0\n",
      "backcall               0.2.0\n",
      "bleach                 3.1.5\n",
      "cachetools             4.1.1\n",
      "certifi                2020.6.20\n",
      "cffi                   1.14.2\n",
      "chainer                7.7.0\n",
      "chardet                3.0.4\n",
      "click                  7.1.2\n",
      "cloudpickle            1.3.0\n",
      "cntk-gpu               2.7\n",
      "cupy                   7.8.0\n",
      "cycler                 0.10.0\n",
      "Cython                 0.29.21\n",
      "decorator              4.4.2\n",
      "defusedxml             0.6.0\n",
      "dm-sonnet              2.0.0\n",
      "dm-tree                0.1.5\n",
      "entrypoints            0.3\n",
      "enum34                 1.1.10\n",
      "fastrlock              0.5\n",
      "filelock               3.0.12\n",
      "funcsigs               1.0.2\n",
      "future                 0.18.2\n",
      "gast                   0.3.3\n",
      "google-auth            1.21.0\n",
      "google-auth-oauthlib   0.4.1\n",
      "google-pasta           0.2.0\n",
      "graphviz               0.14.1\n",
      "grpcio                 1.31.0\n",
      "h5py                   2.10.0\n",
      "idna                   2.10\n",
      "imageio                2.9.0\n",
      "importlib-metadata     1.7.0\n",
      "ipykernel              5.3.4\n",
      "ipython                7.16.1\n",
      "ipython-genutils       0.2.0\n",
      "ipywidgets             7.5.1\n",
      "jedi                   0.17.2\n",
      "Jinja2                 2.11.2\n",
      "joblib                 0.16.0\n",
      "json5                  0.9.5\n",
      "jsonschema             3.2.0\n",
      "jupyter                1.0.0\n",
      "jupyter-client         6.1.7\n",
      "jupyter-console        6.2.0\n",
      "jupyter-core           4.6.3\n",
      "jupyterlab             2.2.6\n",
      "jupyterlab-server      1.2.0\n",
      "Keras                  2.4.3\n",
      "Keras-Preprocessing    1.1.2\n",
      "kiwisolver             1.2.0\n",
      "Lasagne                0.2.dev1\n",
      "leveldb                0.1\n",
      "llvmlite               0.36.0\n",
      "Mako                   1.1.3\n",
      "Markdown               3.2.2\n",
      "MarkupSafe             1.1.1\n",
      "matplotlib             3.3.1\n",
      "mistune                0.8.4\n",
      "mxnet-cu101            1.6.0.post0\n",
      "nbconvert              5.6.1\n",
      "nbformat               5.0.7\n",
      "networkx               2.5\n",
      "nltk                   3.5\n",
      "nose                   1.3.7\n",
      "notebook               6.1.3\n",
      "numba                  0.53.1\n",
      "numpy                  1.18.5\n",
      "oauthlib               3.1.0\n",
      "objgraph               3.4.1\n",
      "onnx                   1.7.0\n",
      "onnxruntime            1.4.0\n",
      "opencv-python          4.4.0.42\n",
      "opt-einsum             3.3.0\n",
      "packaging              20.4\n",
      "paddlepaddle-gpu       1.8.4.post107\n",
      "pandas                 1.1.1\n",
      "pandocfilters          1.4.2\n",
      "parso                  0.7.1\n",
      "pathlib                1.0.1\n",
      "pexpect                4.8.0\n",
      "pickleshare            0.7.5\n",
      "Pillow                 7.2.0\n",
      "pip                    20.2.2\n",
      "prettytable            0.7.2\n",
      "prometheus-client      0.8.0\n",
      "prompt-toolkit         3.0.6\n",
      "protobuf               3.13.0\n",
      "ptyprocess             0.6.0\n",
      "pyasn1                 0.4.8\n",
      "pyasn1-modules         0.2.8\n",
      "pycparser              2.20\n",
      "Pygments               2.6.1\n",
      "pygobject              3.26.1\n",
      "pygpu                  0.7.6\n",
      "pynndescent            0.5.5\n",
      "pyparsing              2.4.7\n",
      "pyrsistent             0.16.0\n",
      "python-apt             1.6.5+ubuntu0.3\n",
      "python-dateutil        2.8.1\n",
      "python-distutils-extra 2.39\n",
      "python-gflags          1.5.1\n",
      "pytz                   2020.1\n",
      "PyWavelets             1.1.1\n",
      "PyYAML                 5.3.1\n",
      "pyzmq                  19.0.2\n",
      "qtconsole              4.7.6\n",
      "QtPy                   1.9.0\n",
      "rarfile                4.0\n",
      "regex                  2020.7.14\n",
      "requests               2.24.0\n",
      "requests-oauthlib      1.3.0\n",
      "rsa                    4.6\n",
      "scikit-image           0.17.2\n",
      "scikit-learn           0.23.2\n",
      "scipy                  1.4.1\n",
      "seaborn                0.11.2\n",
      "Send2Trash             1.5.0\n",
      "setuptools             49.6.0\n",
      "simplegeneric          0.8.1\n",
      "six                    1.15.0\n",
      "tabulate               0.8.7\n",
      "tensorboard            2.3.0\n",
      "tensorboard-plugin-wit 1.7.0\n",
      "tensorflow-estimator   2.3.0\n",
      "tensorflow-gpu         2.3.0\n",
      "tensorflow-probability 0.11.0\n",
      "termcolor              1.1.0\n",
      "terminado              0.8.3\n",
      "testpath               0.4.4\n",
      "Theano                 1.0.5\n",
      "threadpoolctl          2.1.0\n",
      "tifffile               2020.8.25\n",
      "torch                  1.7.0.dev20200819+cu101\n",
      "torchvision            0.8.0.dev20200828+cu101\n",
      "tornado                6.0.4\n",
      "tqdm                   4.48.2\n",
      "traitlets              4.3.3\n",
      "typing                 3.7.4.3\n",
      "typing-extensions      3.7.4.3\n",
      "umap-learn             0.5.2\n",
      "urllib3                1.25.10\n",
      "wcwidth                0.2.5\n",
      "webencodings           0.5.1\n",
      "Werkzeug               1.0.1\n",
      "wheel                  0.35.1\n",
      "widgetsnbextension     3.5.1\n",
      "wrapt                  1.12.1\n",
      "zipp                   3.1.0\n",
      "\u001b[33mWARNING: You are using pip version 20.2.2; however, version 21.3.1 is available.\n",
      "You should consider upgrading via the '/usr/bin/python3.6 -m pip install --upgrade pip' command.\u001b[0m\n"
     ]
    }
   ],
   "source": [
    "!pip list"
   ]
  },
  {
   "cell_type": "markdown",
   "metadata": {},
   "source": [
    "É possível instalar um novo pacote utilizando o comando ``pip install XXX``, onde ``XXX`` é o nome do pacote. O pip instala os pacotes e suas respectivas dependências. Por exemplo, para instalar o pacote ``umap-learn``."
   ]
  },
  {
   "cell_type": "code",
   "execution_count": 4,
   "metadata": {},
   "outputs": [
    {
     "name": "stdout",
     "output_type": "stream",
     "text": [
      "Defaulting to user installation because normal site-packages is not writeable\n",
      "Requirement already satisfied: umap-learn in ./.local/lib/python3.6/site-packages (0.5.2)\n",
      "Requirement already satisfied: numpy>=1.17 in /usr/local/lib/python3.6/dist-packages (from umap-learn) (1.18.5)\n",
      "Requirement already satisfied: numba>=0.49 in ./.local/lib/python3.6/site-packages (from umap-learn) (0.53.1)\n",
      "Requirement already satisfied: scipy>=1.0 in /usr/local/lib/python3.6/dist-packages (from umap-learn) (1.4.1)\n",
      "Requirement already satisfied: pynndescent>=0.5 in ./.local/lib/python3.6/site-packages (from umap-learn) (0.5.5)\n",
      "Requirement already satisfied: tqdm in /usr/local/lib/python3.6/dist-packages (from umap-learn) (4.48.2)\n",
      "Requirement already satisfied: scikit-learn>=0.22 in /usr/local/lib/python3.6/dist-packages (from umap-learn) (0.23.2)\n",
      "Requirement already satisfied: llvmlite<0.37,>=0.36.0rc1 in ./.local/lib/python3.6/site-packages (from numba>=0.49->umap-learn) (0.36.0)\n",
      "Requirement already satisfied: setuptools in /usr/local/lib/python3.6/dist-packages (from numba>=0.49->umap-learn) (49.6.0)\n",
      "Requirement already satisfied: joblib>=0.11 in /usr/local/lib/python3.6/dist-packages (from pynndescent>=0.5->umap-learn) (0.16.0)\n",
      "Requirement already satisfied: threadpoolctl>=2.0.0 in /usr/local/lib/python3.6/dist-packages (from scikit-learn>=0.22->umap-learn) (2.1.0)\n",
      "\u001b[33mWARNING: You are using pip version 20.2.2; however, version 21.3.1 is available.\n",
      "You should consider upgrading via the '/usr/bin/python3.6 -m pip install --upgrade pip' command.\u001b[0m\n"
     ]
    }
   ],
   "source": [
    "!pip install umap-learn"
   ]
  },
  {
   "cell_type": "markdown",
   "metadata": {},
   "source": [
    "Normalmente os pacotes do pip vem do canal estavel do [PyPi](https://pypi.org/). Você pode verificar os pacotes disponíveis neste site.\n",
    "\n",
    "Além disso, muitas vezes baixamos pacotes/bibliotecas em Python do github ou outro local. Geralmente, existe um arquivo chamado de ``requirements.txt`` que especifica os pacotes e suas respectivas versões que devem ser instaladas para que a biblioteca funcione. Neste tutorial temos arquivo de ``requirements.txt`` na raiz do diretório. Podemos instalar os pacotes necessário utilizando o pip, com o parametro ``-r``, como abaixo."
   ]
  },
  {
   "cell_type": "code",
   "execution_count": 5,
   "metadata": {},
   "outputs": [
    {
     "name": "stdout",
     "output_type": "stream",
     "text": [
      "Defaulting to user installation because normal site-packages is not writeable\n",
      "Requirement already satisfied: numpy in /usr/local/lib/python3.6/dist-packages (from -r requirements.txt (line 1)) (1.18.5)\n",
      "Requirement already satisfied: scipy in /usr/local/lib/python3.6/dist-packages (from -r requirements.txt (line 2)) (1.4.1)\n",
      "Requirement already satisfied: scikit-learn in /usr/local/lib/python3.6/dist-packages (from -r requirements.txt (line 3)) (0.23.2)\n",
      "Requirement already satisfied: matplotlib in /usr/local/lib/python3.6/dist-packages (from -r requirements.txt (line 4)) (3.3.1)\n",
      "Requirement already satisfied: seaborn in ./.local/lib/python3.6/site-packages (from -r requirements.txt (line 5)) (0.11.2)\n",
      "Requirement already satisfied: threadpoolctl>=2.0.0 in /usr/local/lib/python3.6/dist-packages (from scikit-learn->-r requirements.txt (line 3)) (2.1.0)\n",
      "Requirement already satisfied: joblib>=0.11 in /usr/local/lib/python3.6/dist-packages (from scikit-learn->-r requirements.txt (line 3)) (0.16.0)\n",
      "Requirement already satisfied: pyparsing!=2.0.4,!=2.1.2,!=2.1.6,>=2.0.3 in /usr/local/lib/python3.6/dist-packages (from matplotlib->-r requirements.txt (line 4)) (2.4.7)\n",
      "Requirement already satisfied: pillow>=6.2.0 in /usr/local/lib/python3.6/dist-packages (from matplotlib->-r requirements.txt (line 4)) (7.2.0)\n",
      "Requirement already satisfied: certifi>=2020.06.20 in /usr/local/lib/python3.6/dist-packages (from matplotlib->-r requirements.txt (line 4)) (2020.6.20)\n",
      "Requirement already satisfied: cycler>=0.10 in /usr/local/lib/python3.6/dist-packages (from matplotlib->-r requirements.txt (line 4)) (0.10.0)\n",
      "Requirement already satisfied: python-dateutil>=2.1 in /usr/local/lib/python3.6/dist-packages (from matplotlib->-r requirements.txt (line 4)) (2.8.1)\n",
      "Requirement already satisfied: kiwisolver>=1.0.1 in /usr/local/lib/python3.6/dist-packages (from matplotlib->-r requirements.txt (line 4)) (1.2.0)\n",
      "Requirement already satisfied: pandas>=0.23 in /usr/local/lib/python3.6/dist-packages (from seaborn->-r requirements.txt (line 5)) (1.1.1)\n",
      "Requirement already satisfied: six in /usr/local/lib/python3.6/dist-packages (from cycler>=0.10->matplotlib->-r requirements.txt (line 4)) (1.15.0)\n",
      "Requirement already satisfied: pytz>=2017.2 in /usr/local/lib/python3.6/dist-packages (from pandas>=0.23->seaborn->-r requirements.txt (line 5)) (2020.1)\n",
      "\u001b[33mWARNING: You are using pip version 20.2.2; however, version 21.3.1 is available.\n",
      "You should consider upgrading via the '/usr/bin/python3.6 -m pip install --upgrade pip' command.\u001b[0m\n"
     ]
    }
   ],
   "source": [
    "!pip install -r requirements.txt"
   ]
  }
 ],
 "metadata": {
  "kernelspec": {
   "display_name": "Python 3",
   "language": "python",
   "name": "python3"
  },
  "language_info": {
   "codemirror_mode": {
    "name": "ipython",
    "version": 3
   },
   "file_extension": ".py",
   "mimetype": "text/x-python",
   "name": "python",
   "nbconvert_exporter": "python",
   "pygments_lexer": "ipython3",
   "version": "3.6.9"
  }
 },
 "nbformat": 4,
 "nbformat_minor": 4
}
