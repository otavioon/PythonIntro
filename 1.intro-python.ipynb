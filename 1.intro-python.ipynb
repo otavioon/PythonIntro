{
 "cells": [
  {
   "cell_type": "markdown",
   "metadata": {},
   "source": [
    "# Os básicos da linguagem de programação Python"
   ]
  },
  {
   "cell_type": "markdown",
   "metadata": {},
   "source": [
    "Como a maioria das linguagens, Python tem vários tipos básicos, incluindo inteiros, pontos flutuantes, booleanos e strings. Esses tipos de dados se comportam de maneiras que são familiares de outras linguagens de programação.\n",
    "\n",
    "**Números**: inteiros e ponto flutuantes funcionam como você esperaria de outras linguagens.\n",
    "\n",
    "**Comentários**: linhas que iniciam com o caractere ``#``\n",
    "\n",
    "**Variáveis**: toda variavel possui um valor e um tipo. A declaração de uma variavel é realizada quando um valor é associado a ela e o seu tipo é atribuido com base no valor atribuido. O tipo da variavel é muito importante pois os operadores podem desempenhar diferentes funções dependendo do tipo. Por exemplo, o operador ``+`` entre duas variaveis do tipo inteiro, resulta em uma variável do tipo inteiro. Já o operador ``+`` utilizado entre duas variáveis do tipo string, resulta em uma outra string que é a concatenação das duas. \n",
    "\n",
    "O acesso ao valor(es) de uma variável é obtido simplesmente utilizando seu nome e o tipo da váriavel pode ser obtido através da função embutida ``type``."
   ]
  },
  {
   "cell_type": "code",
   "execution_count": 1,
   "metadata": {},
   "outputs": [
    {
     "name": "stdout",
     "output_type": "stream",
     "text": [
      "<class 'int'>\n",
      "<class 'float'>\n",
      "<class 'str'>\n"
     ]
    }
   ],
   "source": [
    "# Vamos declarar algumas variáveis\n",
    "\n",
    "# Variável x, do tipo inteiro\n",
    "x = 3\n",
    "# Variavel y, to tipo float \n",
    "y = 3.5\n",
    "# Variavel z, to tipo string. Uma string pode ser definido por uma expressão entre aspas simples ou duplas\n",
    "z = \"valor 3.0\"\n",
    "\n",
    "# Vamos imprimir os tipos das variáveis, utilizando a função da biblioteca padrão: type\n",
    "print(type(x))       # Imprime <class 'int'>\n",
    "print(type(y))       # Imprime <class 'float'>\n",
    "print(type(z))       # Imprime <class 'str'>"
   ]
  },
  {
   "cell_type": "markdown",
   "metadata": {},
   "source": [
    "Desde de a versão 3.5 do Python, podemos utilizar as [f-strings](https://docs.python.org/3/tutorial/inputoutput.html#formatted-string-literals), também ditas de strings formatadas. Estas strings permitem incluir uma expressão de Python dentro de uma string. Para tanto, a stirng deve iniciar com ``f`` ou ``F``, e as expressões a serem formatadas devem ficar dentro de chaves, como ``{expressão qualquer}``. As expressões podem ser códigos em Python em geral. Usaremos as f-strings ao longo do tutorial para imprimir valores de expressões em geral Você pode verificar as expressões que ficam entre chaves {}. No exemplo abaixo, fazemos uma string que imprime o valor das variáveis ``x``, ``y``, e ``z`` e o valor da expressão ``x+1``."
   ]
  },
  {
   "cell_type": "code",
   "execution_count": 2,
   "metadata": {},
   "outputs": [
    {
     "name": "stdout",
     "output_type": "stream",
     "text": [
      "O valor de x é '3', o valor de y é '3.5' e o valor de z é 'valor 3.0'. x+1 = 4\n"
     ]
    }
   ],
   "source": [
    "print(f\"O valor de x é '{x}', o valor de y é '{y}' e o valor de z é '{z}'. x+1 = {x+1}\")"
   ]
  },
  {
   "cell_type": "markdown",
   "metadata": {},
   "source": [
    "## Expressões com variáveis inteiras e de ponto flutuantes\n",
    "\n",
    "``+``: Adição. Entre inteiros, resulta em um inteiro. Entre inteiros e floats ou entre floats, resulta em float.\n",
    "``-``: Subtração. Entre inteiros, resulta em um inteiro. Entre inteiros e floats ou entre floats, resulta em float.\n",
    "``*``: Multiplicação. Entre inteiros, resulta em um inteiro. Entre inteiros e floats ou entre floats, resulta em float.\n",
    "``/``: Divisão. Entre inteiros e floats resulta em um float.\n",
    "``//``: Divisão inteira. Retorna a parte inteira de uma divisão.\n",
    "``**``: Exponenciação"
   ]
  },
  {
   "cell_type": "code",
   "execution_count": 3,
   "metadata": {},
   "outputs": [
    {
     "name": "stdout",
     "output_type": "stream",
     "text": [
      "4\n",
      "2\n",
      "6\n",
      "1.5\n",
      "1\n",
      "9\n"
     ]
    }
   ],
   "source": [
    "print(x+1)    # Soma dois inteiros\n",
    "print(x-1)    # Subtrai dois inteiros\n",
    "print(x * 2)  # Multiplica dois inteiros\n",
    "print(x / 2)  # Divide dois inteiros\n",
    "print(x // 2) # Divide dois inteiros e pega apenas a parte inteira\n",
    "print(x ** 2) # Exponenciação"
   ]
  },
  {
   "cell_type": "markdown",
   "metadata": {},
   "source": [
    "Ao contrário de muitas linguagens, Python não tem operadores de incremento (``x++``) ou decremento (``x--``) unário."
   ]
  },
  {
   "cell_type": "code",
   "execution_count": 4,
   "metadata": {},
   "outputs": [
    {
     "name": "stdout",
     "output_type": "stream",
     "text": [
      "O valor de x após a mutiplicação é: 6. O tipo é <class 'int'>\n",
      "O valor de x após a divisão é: 3.0. O tipo é <class 'float'>\n",
      "O valor de x após a soma é: 5.0. O tipo é <class 'float'>\n",
      "O valor de x após a subtração é: 3.0. O tipo é <class 'float'>\n"
     ]
    }
   ],
   "source": [
    "x *= 2     # Multiplica x por 2\n",
    "print(f\"O valor de x após a mutiplicação é: {x}. O tipo é {type(x)}\")\n",
    "\n",
    "x /= 2     # Divide x por 2\n",
    "print(f\"O valor de x após a divisão é: {x}. O tipo é {type(x)}\")\n",
    "\n",
    "x += 2     # Soma x com 2\n",
    "print(f\"O valor de x após a soma é: {x}. O tipo é {type(x)}\")\n",
    "\n",
    "x -= 2     # Subtrai 2 de x\n",
    "print(f\"O valor de x após a subtração é: {x}. O tipo é {type(x)}\")"
   ]
  },
  {
   "cell_type": "markdown",
   "metadata": {},
   "source": [
    "Python também possui tipos embutidos para números complexos. Você pode encontrar todos os detalhes na [documentação](https://docs.python.org/3.5/library/stdtypes.html#numeric-types-int-float-complex)."
   ]
  },
  {
   "cell_type": "markdown",
   "metadata": {},
   "source": [
    "## Expressões com tipos booleanos\n",
    "\n",
    "Python implementa todos os operadores usuais para lógica booleana, mas usa palavras em inglês em vez de símbolos (&&, ||, etc.). Além disso, os valores padrões ``True``representa valor verdadeiro e ``False`` o valor falso. O tipo de uma variável booleana é ``bool``."
   ]
  },
  {
   "cell_type": "code",
   "execution_count": 5,
   "metadata": {},
   "outputs": [
    {
     "name": "stdout",
     "output_type": "stream",
     "text": [
      "O tipo de t é <class 'bool'>\n",
      "False\n",
      "True\n",
      "False\n",
      "True\n"
     ]
    }
   ],
   "source": [
    "t = True\n",
    "f = False\n",
    "print(f\"O tipo de t é {type(t)}\")\n",
    "# AND entre t e f. Resulta em False\n",
    "print(t and f)\n",
    "# OR entre t e f. Resulta em True\n",
    "print(t or f)\n",
    "# Operação not em t. Resulta em False\n",
    "print(not t)\n",
    "# XOR lógico entre t e f. Resulta em True\n",
    "print(t != f)"
   ]
  },
  {
   "cell_type": "markdown",
   "metadata": {},
   "source": [
    "## Expressões com strings\n",
    "\n",
    "Python tem um ótimo suporte para trabalhar com strings.\n",
    "\n",
    "* A funçao ``len()`` retorna o tamanho da string (quantidade de caracteres)\n",
    "\n",
    "* O operador ``+`` entre duas strings, realiza a concatenação\n",
    "\n",
    "* As strings podem ser formatadas utilizando as f-strings\n",
    "\n",
    "* As strings podem ser declaradas com o uso de aspas simples ou duplas\n",
    "\n",
    "* A função ``str()`` transforma elementos em strings. Os tipos primitivos (int, float, double) podem ser convertidos para string utilizando esta função. Outros tipos podem ser convertidos, caso a classe implemente a função str. "
   ]
  },
  {
   "cell_type": "code",
   "execution_count": 6,
   "metadata": {},
   "outputs": [
    {
     "name": "stdout",
     "output_type": "stream",
     "text": [
      "O valor de hw é hello world\n",
      "O tamanho de hw é de 11 caracteres\n",
      "hello world.\n",
      "O valor de xx é 3.0, do tipo <class 'str'>. O valor de yy é 3.5, do tipo <class 'str'>.\n",
      "O valor de x é 3, do tipo <class 'int'>. O valor de y é 3.5, do tipo <class 'float'>.\n"
     ]
    }
   ],
   "source": [
    "# Variável h, com valor hello\n",
    "h = \"hello\"\n",
    "# Variável w, com valor world\n",
    "w = 'world'\n",
    "# hw contém as strings concatenadas\n",
    "hw = h + ' ' + w\n",
    "print(f\"O valor de hw é {hw}\")\n",
    "\n",
    "# Podemos ter o tamanho de hw, com o uso da função len\n",
    "print(f\"O tamanho de hw é de {len(hw)} caracteres\")\n",
    "\n",
    "# Podemos concatenar as strings h e w utilizando as f-strings também\n",
    "hw = f\"{h} {w}.\"\n",
    "print(hw)\n",
    "\n",
    "# Podemos converter numeros para string\n",
    "xx = str(x)\n",
    "yy = str(y)\n",
    "print(f\"O valor de xx é {xx}, do tipo {type(xx)}. O valor de yy é {yy}, do tipo {type(yy)}.\")\n",
    "\n",
    "# Podemos converter strings para float ou inteiros, utilizando as funções int() e float(), respectivamente\n",
    "x = int(x)\n",
    "y = float(y)\n",
    "print(f\"O valor de x é {x}, do tipo {type(x)}. O valor de y é {y}, do tipo {type(y)}.\")"
   ]
  },
  {
   "cell_type": "markdown",
   "metadata": {},
   "source": [
    "Os objetos do tipo string possuem vários métodos úteis.\n",
    "\n",
    "* capitalize: escreve com a primeira letra maiuscula\n",
    "\n",
    "* lower: deixa a string toda em minusculo\n",
    "\n",
    "* upper: deixa a string toda em maiusculo\n",
    "\n",
    "* replace: troca caracteres por outros\n",
    "\n",
    "* strip: retira os espaços em branco à esquerda e à direita"
   ]
  },
  {
   "cell_type": "code",
   "execution_count": 7,
   "metadata": {},
   "outputs": [
    {
     "name": "stdout",
     "output_type": "stream",
     "text": [
      "capitalize: 'hello world' --> 'Hello world'\n",
      "lower: 'Hello World' --> 'hello world'\n",
      "upper: 'Hello World' --> 'HELLO WORLD'\n",
      "replace(troca espaços por hifens): 'Hello World' --> 'Hello-World'\n",
      "strip: '    Hello World       ' --> 'Hello World'\n"
     ]
    }
   ],
   "source": [
    "h = \"hello world\"\n",
    "print(f\"capitalize: '{h}' --> '{h.capitalize()}'\")\n",
    "\n",
    "h = \"Hello World\"\n",
    "print(f\"lower: '{h}' --> '{h.lower()}'\")\n",
    "\n",
    "h = \"Hello World\"\n",
    "print(f\"upper: '{h}' --> '{h.upper()}'\")\n",
    "\n",
    "h = \"Hello World\"\n",
    "print(f\"replace(troca espaços por hifens): '{h}' --> '{h.replace(' ', '-')}'\")\n",
    "\n",
    "h = \"    Hello World       \" \n",
    "print(f\"strip: '{h}' --> '{h.strip()}'\")"
   ]
  },
  {
   "cell_type": "markdown",
   "metadata": {},
   "source": [
    "## Objeto vazio\n",
    "\n",
    "Python possui o tipo None, que representa um objeto/elemento vazio, sem tipo nem valor."
   ]
  },
  {
   "cell_type": "code",
   "execution_count": 8,
   "metadata": {},
   "outputs": [
    {
     "name": "stdout",
     "output_type": "stream",
     "text": [
      "<class 'NoneType'>\n"
     ]
    }
   ],
   "source": [
    "x = None\n",
    "print(type(x))"
   ]
  },
  {
   "cell_type": "markdown",
   "metadata": {},
   "source": [
    "# Containers"
   ]
  },
  {
   "cell_type": "markdown",
   "metadata": {},
   "source": [
    "Python inclui vários tipos de contêineres padrões: listas, dicionários, conjuntos e tuplas."
   ]
  },
  {
   "cell_type": "markdown",
   "metadata": {},
   "source": [
    "## Listas"
   ]
  },
  {
   "cell_type": "markdown",
   "metadata": {},
   "source": [
    "Uma lista em Python é equivalente a um vetor, mas pode ser redimensionada e pode conter elementos de diferentes tipos.\n",
    "\n",
    "* Uma objeto do tipo lista pode ser criado utilizando [] ou list()\n",
    "\n",
    "* Os elementos de uma lista podem ser acessados por seu indice, ou acessados de maneira reversa com seu indice negativo. Note que o indice começa em 0\n",
    "\n",
    "* Elementos podem ser anexados a lista com o auxilio da função ``append``\n",
    "\n",
    "* Elementos podem ser inseridos em qualquer posição com o uso da função ``insert``\n",
    "\n",
    "* O tamanho da lista (numero de elementos) pode ser retornado com o auxilio da função ``len`` \n",
    "\n",
    "* O operador ``+`` aplicado a dois operandos do tipo lista, resulta numa terceira lista que é a concatenação das duas\n",
    "\n",
    "* Podemos remover um elemento da lista, por seu indice, utilizando a função ``pop``. Caso nenhum indice seja passado como parametro, o último elemento é removido.\n",
    "\n",
    "* Podemos checar se um elemento está na lista com a palavra-chave ``in``.\n",
    "\n",
    "* Mais informações sobre as funções de listas podem ser acessadas na [documentação do python](https://docs.python.org/3.9/tutorial/datastructures.html#more-on-lists). Existem varias funções como contagem, indices, remoção por elemento etc."
   ]
  },
  {
   "cell_type": "code",
   "execution_count": 9,
   "metadata": {},
   "outputs": [
    {
     "name": "stdout",
     "output_type": "stream",
     "text": [
      "x=[] e y=[6, 7, 8]. O tipo de x é <class 'list'>.\n",
      "A lista x possui: [1, 3.1415, 'hello world']\n",
      "A lista x possui 3 elementos\n",
      "A lista x possui 6 elementos, sendo eles: [1, 3.1415, 'hello world', 6, 7, 8]\n",
      "A lista x possui os elementos: [1, 3.1415, 'hello world', 6, 7, 8, 'mais um elemento']\n",
      "Primeiro elemento de x é '1'\n",
      "O ultimo elemento de x é 'mais um elemento'\n",
      "A lista x possui: [1, 3.1415, 'ola', 'hello world', 6, 7, 8, 'mais um elemento']\n",
      "O valor ola esta em x? True\n",
      "O elemento removido foi: ola\n"
     ]
    }
   ],
   "source": [
    "# Criação de uma lista vazia, com a notação []\n",
    "x = []\n",
    "\n",
    "# Criaçao de uma lista com 3 elementos \n",
    "y = [6, 7, 8]\n",
    "print(f\"x={x} e y={y}. O tipo de x é {type(x)}.\")\n",
    "\n",
    "# Podemos criar lista, criando um objeto do tipo list também\n",
    "x = list()\n",
    "\n",
    "# Uma lista pode ter elementos de diferentes tipos\n",
    "x = [1, 3.1415, \"hello world\"]\n",
    "print(f\"A lista x possui: {x}\")\n",
    "\n",
    "# Podemos ver o tamanho de uma lista, com a função len\n",
    "print(f\"A lista x possui {len(x)} elementos\")\n",
    "\n",
    "# Podemos concatenar duas listas, com o uso do operador +\n",
    "x = x+y\n",
    "print(f\"A lista x possui {len(x)} elementos, sendo eles: {x}\")\n",
    "\n",
    "# Podemos adicionar elementos ao final da lista, com a funçao append\n",
    "x.append(\"mais um elemento\")\n",
    "print(f\"A lista x possui os elementos: {x}\")\n",
    "\n",
    "# Podemos acessar os elementos de uma lista, com o uso do operador []. A lista é indexada a partir do elemento 0\n",
    "print(f\"Primeiro elemento de x é '{x[0]}'\")\n",
    "\n",
    "# Podemos acessar os elementos reversamente, com o uso de indices negativos, começando em -1 (que é o ultimo elemento)\n",
    "print(f\"O ultimo elemento de x é '{x[-1]}'\")\n",
    "\n",
    "# Podemos inserir um elemento em uma posição qualquer da lista, com o uso da função insert. Por exemplo, para inserir um elemento na terceira posição:\n",
    "x.insert(2, \"ola\")\n",
    "print(f\"A lista x possui: {x}\")\n",
    "\n",
    "# Podemos checar se o elemento 'ola' esta na lista, com a palavra-chave in (que retorna um booleano)\n",
    "print(f\"O valor ola esta em x? {'ola' in x}\")\n",
    "\n",
    "# Removendo o terceiro elemento da lista\n",
    "v = x.pop(2)\n",
    "print(f\"O elemento removido foi: {v}\")"
   ]
  },
  {
   "cell_type": "markdown",
   "metadata": {},
   "source": [
    "Similarmente a lista, Python possui o tipo tupla. A tupla pode ser visto como uma lista imutável e ordenada, onde não é possível adicionar ou remover elementos da mesma. O tipo tupla possui as mesmas funções funções do tipo lista, exceto que as funções que mutam-a como ``pop``, ``append``, ``insert``. Desta forma:\n",
    "\n",
    "* Um objeto do tipo tupla pode ser criado utilizando ( ,) ou tuple(). Note que para declarar uma tupla utilizando a primeira sintaxe, é necessário colocar uma virgula no final.\n",
    "\n",
    "* Os elementos de uma lista podem ser acessados por seu indice, ou acessados de maneira reversa com seu indice negativo. Note que o indice começa em 0\n",
    "\n",
    "* O tamanho da lista (numero de elementos) pode ser retornado com o auxilio da função ``len`` \n",
    "\n",
    "* O operador ``+`` aplicado a dois operandos do tipo lista, resulta numa terceira lista que é a concatenação das duas.\n",
    "\n",
    "* É possivel fazer o unpacking de uma tupla em multiplas variáveis.\n",
    "\n",
    "* Mais informações sobre as funções de listas podem ser acessadas na [documentação do python](https://docs.python.org/3.9/tutorial/datastructures.html#tuples-and-sequences). "
   ]
  },
  {
   "cell_type": "code",
   "execution_count": 10,
   "metadata": {},
   "outputs": [
    {
     "name": "stdout",
     "output_type": "stream",
     "text": [
      "A tupla x possui: '()'. A tupla y possui '('heya',)'. A tupla z possui: '('ola', 'mundo')'. O tipo de x é <class 'tuple'>\n",
      "O tamanho de z é de 2 elementos.\n",
      "O valor da tupla x é ('heya', 'ola', 'mundo')\n",
      "O valor de a é 'heya'. O valor de b é 'ola'. O valor de c é 'mundo'\n"
     ]
    }
   ],
   "source": [
    "# tupla vazia\n",
    "x = () # ou x = tuple()\n",
    "# Outra forma de declarar tupla. Note a virgula no final (quando há apenas um elemento)!\n",
    "y = \"heya\",\n",
    "# outra forma de declarar uma tupla\n",
    "z = (\"ola\", \"mundo\",)\n",
    "\n",
    "print(f\"A tupla x possui: '{x}'. A tupla y possui '{y}'. A tupla z possui: '{z}'. O tipo de x é {type(x)}\")\n",
    "\n",
    "# Podemos obter o tamanho da tupla (numero de elementos) utilzando a função len\n",
    "print(f\"O tamanho de z é de {len(z)} elementos.\")\n",
    "\n",
    "# Podemos concatenar duas tuplas e gerar uma terceira tupla com o operador +\n",
    "x = y + z\n",
    "print(f\"O valor da tupla x é {x}\")\n",
    "\n",
    "# Podemos desempacotar uma tupla em várias variáveis. Cada valor da tupla será atribuido a uma variável.\n",
    "a, b, c = x\n",
    "print(f\"O valor de a é '{a}'. O valor de b é '{b}'. O valor de c é '{c}'\")"
   ]
  },
  {
   "cell_type": "markdown",
   "metadata": {},
   "source": [
    "**Slice**: além de acessar os elementos da lista um de cada vez, Python fornece uma sintaxe concisa para acessar as sublistas; isso é conhecido como slice. Para estes exemplos, usaremos a função ``range``, que é uma função embutida para criar uma lista de inteiros, sequenciais."
   ]
  },
  {
   "cell_type": "code",
   "execution_count": 11,
   "metadata": {},
   "outputs": [
    {
     "name": "stdout",
     "output_type": "stream",
     "text": [
      "[0, 1, 2, 3, 4]\n",
      "A fatia (sublista) de x dos indices 2 até 4 é [2, 3]\n",
      "A fatia (sublista) de x do indice 2 até o final é [2, 3, 4]\n",
      "A fatia (sublista) de x do inicio até o indice 2 (exclusivo) é [0, 1]\n",
      "A fatia (sublista) de x da lista toda é [0, 1, 2, 3, 4]\n",
      "A fatia (sublista) do começo até o último elemento (exclusivo) é [0, 1, 2, 3]\n",
      "[0, 1, 'ola', 'mundo', 4]\n"
     ]
    }
   ],
   "source": [
    "# Cria uma lista com 10 elementos, de 0 a 9\n",
    "x = list(range(5))\n",
    "print(x)\n",
    "\n",
    "# Obter a fatia dos indices de 2 a 4 (exclusivo)\n",
    "y = x[2:4]\n",
    "print(f\"A fatia (sublista) de x dos indices 2 até 4 é {y}\")\n",
    "\n",
    "# Obtem a lista dos indices 2 até o final\n",
    "y = x[2:]\n",
    "print(f\"A fatia (sublista) de x do indice 2 até o final é {y}\")\n",
    "\n",
    "# Obtem a lista desdeo começo até o indice 2 (exclusivo)\n",
    "y = x[:2]\n",
    "print(f\"A fatia (sublista) de x do inicio até o indice 2 (exclusivo) é {y}\")\n",
    "\n",
    "# Podemos pegar uma fatia que é a lista toda\n",
    "y = x[:]\n",
    "print(f\"A fatia (sublista) de x da lista toda é {y}\")\n",
    "\n",
    "# A fatia pode ter elementos negativos também. Para pegar a sublista do começo até o último elemento (exclusivo), usamos:\n",
    "y = x[:-1]\n",
    "print(f\"A fatia (sublista) do começo até o último elemento (exclusivo) é {y}\")\n",
    "\n",
    "# Podemos associar uma lista a uma fatia também. Abaixo associamos a lista [ola, mundo] aos elementos 2 e 3 da lista.\n",
    "x[2:4] = [\"ola\", \"mundo\"]\n",
    "print(x)"
   ]
  },
  {
   "cell_type": "markdown",
   "metadata": {},
   "source": [
    "Podemos iterar sobre uma lista/tupla em python utilizando os laços ``for``. Não há necessidade de criar uma váriavel e iterar sobre indices, como feito na linguagem C. Podemos iterar sobre cada elemento com a palavra-chave ``in``. "
   ]
  },
  {
   "cell_type": "code",
   "execution_count": 12,
   "metadata": {},
   "outputs": [
    {
     "name": "stdout",
     "output_type": "stream",
     "text": [
      "gato\n",
      "vaca\n",
      "cachorro\n"
     ]
    }
   ],
   "source": [
    "x = [\"gato\", \"vaca\", \"cachorro\"]\n",
    "\n",
    "# Iremos iterar sobre cada elemento de x, utilizando a sintaxe for-in. e obtera o valor de cada elemento\n",
    "for e in x:\n",
    "    print(e)"
   ]
  },
  {
   "cell_type": "markdown",
   "metadata": {},
   "source": [
    "Podemos iterar sobre a lista e obter seus indices com o uso da função ``enumerate``. Esta função retorna uma lista de tuplas, onde cada tupla contém o indice do elemento e o respectivo elemento."
   ]
  },
  {
   "cell_type": "code",
   "execution_count": 13,
   "metadata": {},
   "outputs": [
    {
     "name": "stdout",
     "output_type": "stream",
     "text": [
      "Lista enumerada: [(0, 'gato'), (1, 'vaca'), (2, 'cachorro')]\n",
      "O indice é 0 e o elemento é gato\n",
      "O indice é 1 e o elemento é vaca\n",
      "O indice é 2 e o elemento é cachorro\n"
     ]
    }
   ],
   "source": [
    "x = [\"gato\", \"vaca\", \"cachorro\"]\n",
    "x = list(enumerate(x))\n",
    "print(f\"Lista enumerada: {x}\")\n",
    "\n",
    "x = [\"gato\", \"vaca\", \"cachorro\"]\n",
    "# Vamos iterar sobre a lista de tuplas e para cada tupla, fazer o unpacking sobre as variaveis i (indice) e e (elemento)\n",
    "for i, e in enumerate(x):\n",
    "    print(f\"O indice é {i} e o elemento é {e}\")"
   ]
  },
  {
   "cell_type": "markdown",
   "metadata": {},
   "source": [
    "Podemos iterar sobre a lista de maneira reversa ou ordenada, com as funções ``reversed`` e ``sorted``"
   ]
  },
  {
   "cell_type": "code",
   "execution_count": 14,
   "metadata": {},
   "outputs": [
    {
     "name": "stdout",
     "output_type": "stream",
     "text": [
      "tatu\n",
      "cachorro\n",
      "vaca\n",
      "gato\n",
      "-------\n",
      "cachorro\n",
      "gato\n",
      "tatu\n",
      "vaca\n"
     ]
    }
   ],
   "source": [
    "x = [\"gato\", \"vaca\", \"cachorro\", \"tatu\"]\n",
    "# Iterar sobre a lista de maneira reversa\n",
    "for e in reversed(x):\n",
    "    print(e)\n",
    "    \n",
    "print(\"-------\")\n",
    "# Iterando sobre a lista de maneira ordenada\n",
    "for e in sorted(x):\n",
    "    print(e)"
   ]
  },
  {
   "cell_type": "markdown",
   "metadata": {},
   "source": [
    "Também podemos acessar listas por seus indices ao invés de utilizar os loops for-in, iguamente a outras linguagens, como C. Apesar desta forma ser mais incomum e menos eficiente."
   ]
  },
  {
   "cell_type": "code",
   "execution_count": 15,
   "metadata": {},
   "outputs": [
    {
     "name": "stdout",
     "output_type": "stream",
     "text": [
      "O indice é 0 e o valor de x neste indice é gato\n",
      "O indice é 1 e o valor de x neste indice é vaca\n",
      "O indice é 2 e o valor de x neste indice é cachorro\n",
      "O indice é 3 e o valor de x neste indice é tatu\n"
     ]
    }
   ],
   "source": [
    "x = [\"gato\", \"vaca\", \"cachorro\", \"tatu\"]\n",
    "\n",
    "# Criaremos uma sequencia de elementos de 0 a len(x) (tamanho de x)\n",
    "for i in range(len(x)):\n",
    "    print(f\"O indice é {i} e o valor de x neste indice é {x[i]}\")"
   ]
  },
  {
   "cell_type": "markdown",
   "metadata": {},
   "source": [
    "Note que as operações sobre listas (for-in) também podem ser utilizadas em outros containeres como tuplas, conjuntos e dicionarios."
   ]
  },
  {
   "cell_type": "markdown",
   "metadata": {},
   "source": [
    "## Compreensão de listas\n",
    "\n",
    "Ao programar, frequentemente queremos transformar um tipo de dado em outro. Como um exemplo simples, considere o seguinte código que calcula números quadrados."
   ]
  },
  {
   "cell_type": "code",
   "execution_count": 16,
   "metadata": {},
   "outputs": [
    {
     "name": "stdout",
     "output_type": "stream",
     "text": [
      "Os quadrados de [0, 1, 2, 3, 4] são: [0, 1, 4, 9, 16] (respectivamente)\n"
     ]
    }
   ],
   "source": [
    "numeros = [0, 1, 2, 3, 4]\n",
    "quadrados = []\n",
    "for x in numeros:\n",
    "    quadrados.append(x ** 2)\n",
    "print(f\"Os quadrados de {numeros} são: {quadrados} (respectivamente)\") "
   ]
  },
  {
   "cell_type": "markdown",
   "metadata": {},
   "source": [
    "Para transformações deste genero, podemos simplificar o código e utilizar a compreensão de listas. A compreensão de lista consiste de um laço dentro da declaração de uma lista que retorna um dado elemento transformado."
   ]
  },
  {
   "cell_type": "code",
   "execution_count": 17,
   "metadata": {},
   "outputs": [
    {
     "name": "stdout",
     "output_type": "stream",
     "text": [
      "[0, 1, 4, 9, 16]\n"
     ]
    }
   ],
   "source": [
    "numeros = [0, 1, 2, 3, 4]\n",
    "# Veja que o valor x ao quadrado é retornado, onde x itera por cada elemento de numeros. \n",
    "# Essa sintaxe é conhecida como compreensao de listas. O resultado vem no começo, seguido de um for iterante\n",
    "quadrados = [x**2 for x in numeros] \n",
    "print(quadrados)"
   ]
  },
  {
   "cell_type": "markdown",
   "metadata": {},
   "source": [
    "A compreensão de lista pode até conter condições. Por exemplo, calcularemos os quadrados da lista numeros, mas anexaremos apenas aqueles que são divisiveis por 2 (pares)."
   ]
  },
  {
   "cell_type": "code",
   "execution_count": 18,
   "metadata": {},
   "outputs": [
    {
     "name": "stdout",
     "output_type": "stream",
     "text": [
      "[0, 4, 16]\n"
     ]
    }
   ],
   "source": [
    "numeros = [0, 1, 2, 3, 4]\n",
    "# Veja que o valor x ao quadrado é retornado, onde x itera por cada elemento de numeros. Essa sintaxe é conhecida como compreensao de listas. A condição é colocada logo a frente\n",
    "quadrados_pares = [x**2 for x in numeros if x % 2 == 0] \n",
    "print(quadrados_pares)\n",
    "\n",
    "# Esta compreensão é equivalente a:\n",
    "# for x in numeros:\n",
    "#     if x % 2 == 0:\n",
    "#         quadrados.append(x ** 2)"
   ]
  },
  {
   "cell_type": "markdown",
   "metadata": {},
   "source": [
    "Mais informações sobre a compreensão de listas/tuplas podem ser vista na [documentação de compreensão de listas do Python](https://docs.python.org/3.9/tutorial/datastructures.html#list-comprehensions). Note que a mesma sintaxe de compreensãovale para tuplas e conjuntos."
   ]
  },
  {
   "cell_type": "markdown",
   "metadata": {},
   "source": [
    "## Conjuntos\n",
    "\n",
    "Um conjunto é uma coleção não ordenada de elementos distintos, isto é, não há elementos repetidos. \n",
    "\n",
    "* Os conjuntos podem ser declarados utilizando chaves (``{}``), ou ``set()``. \n",
    "\n",
    "* Elementos podem ser adicionados ao conjunto com a função ``add``\n",
    "\n",
    "* Elementos podem ser removidos do conjunto com a função ``remove``\n",
    "\n",
    "* Podemos unir dois conjuntos com a função ``union`` ou utilizando o operador ``|``\n",
    "\n",
    "* Podemos tirar a diferença de dois conjuntos com a função ``difference`` ou utilizando o operador ``-``\n",
    "\n",
    "* Podemos obter a interseção de dois conjuntos com a função ``intersection`` ou utilizando o operador ``&``\n",
    "\n",
    "* O tamanho do conjunto pode ser obtido com auxilio da função ``len``\n",
    "\n",
    "* Podemos verificar se um elemento está no conjunto com a palavra-chave ``in``\n",
    "\n",
    "* Mais funções sobre conjuntos podem ser vistas na [documentação de conjuntos de Python](https://docs.python.org/3.9/library/stdtypes.html#set)"
   ]
  },
  {
   "cell_type": "code",
   "execution_count": 19,
   "metadata": {},
   "outputs": [
    {
     "name": "stdout",
     "output_type": "stream",
     "text": [
      "O conjunto x contém: {1, 'ola', 2, 'mundo'}. O conjunto y contém: {1, 2, 3}\n",
      "O conjunto x contém {1, 'ola', 2, 'mundo', 'elemento'}\n",
      "O conjunto x contém {1, 'ola', 2, 'mundo', 'elemento'}\n",
      "O conjunto x contém {1, 'ola', 2, 'mundo'}\n",
      "O conjunto z contém {1, 'ola', 2, 3, 'mundo'}\n",
      "O conjunto z contém {'ola', 'mundo'}\n",
      "O conjunto z contém {1, 2}\n",
      "O tamanho do conjunto x é de 4 elementos\n",
      "O valor 'ola' esta em x? True\n",
      "O valor 'brasil' esta em x? False\n"
     ]
    }
   ],
   "source": [
    "x = {\"ola\", \"mundo\", 1, 2}\n",
    "y = {1,2,3}\n",
    "print(f\"O conjunto x contém: {x}. O conjunto y contém: {y}\")\n",
    "\n",
    "# Podemos adicionar um elemento ao conjunto, com a função add\n",
    "x.add(\"elemento\")\n",
    "print(f\"O conjunto x contém {x}\")\n",
    "\n",
    "# Caso o mesmo elemento seja adicionado novamente ao conjunto, nada acontece.\n",
    "x.add(\"elemento\")\n",
    "print(f\"O conjunto x contém {x}\")\n",
    "\n",
    "# Podemos remover um elemento com a função remove\n",
    "x.remove(\"elemento\")\n",
    "print(f\"O conjunto x contém {x}\")\n",
    "\n",
    "# Podemos unir dois conjuntos com a função union ou operador |\n",
    "z = x | y\n",
    "print(f\"O conjunto z contém {z}\")\n",
    "\n",
    "# Podemos obter a diferença de conjuntos com o operador - (valores que estão no primeiro conjunto, mas não no segundo)\n",
    "z = x-y\n",
    "print(f\"O conjunto z contém {z}\")\n",
    "\n",
    "# Podemos obter a interseção de conjuntos com o operador &\n",
    "z = x&y\n",
    "print(f\"O conjunto z contém {z}\")\n",
    "\n",
    "# Podemos obter o tamanho de um conjunto com a função len\n",
    "print(f\"O tamanho do conjunto x é de {len(x)} elementos\")\n",
    "\n",
    "# Podemos verificar se um elemento se encontra no conjunto com a palavra-chave in (que retorna um booleano)\n",
    "print(f\"O valor 'ola' esta em x? {'ola' in x}\")\n",
    "print(f\"O valor 'brasil' esta em x? {'brasil' in x}\")"
   ]
  },
  {
   "cell_type": "markdown",
   "metadata": {},
   "source": [
    "Similarmente a listas e tuplas podemos utilizar o loop for-in sobre conjuntos. Pode-se utilizar também funções como ``enumerate`` sobre conjuntos."
   ]
  },
  {
   "cell_type": "code",
   "execution_count": 20,
   "metadata": {},
   "outputs": [
    {
     "name": "stdout",
     "output_type": "stream",
     "text": [
      "{1, 'ola', 2, 'mundo'}\n",
      "{1, 'ola', 2, 'mundo'}\n",
      "{1, 'ola', 2, 'mundo'}\n",
      "{1, 'ola', 2, 'mundo'}\n"
     ]
    }
   ],
   "source": [
    "x = {\"ola\", \"mundo\", 1, 2}\n",
    "\n",
    "# Iterando sobre conjuntos\n",
    "for e in x:\n",
    "    print(x)"
   ]
  },
  {
   "cell_type": "markdown",
   "metadata": {},
   "source": [
    "Também podemos fazer compreensão de conjuntos, igualmente a lista e tuplas"
   ]
  },
  {
   "cell_type": "code",
   "execution_count": 21,
   "metadata": {},
   "outputs": [
    {
     "name": "stdout",
     "output_type": "stream",
     "text": [
      "{'OLA', 'MUNDO'}\n"
     ]
    }
   ],
   "source": [
    "x = {\"ola\", \"mundo\"}\n",
    "# Colocando as palavras em maiusculo\n",
    "x_maiusculo = {e.upper() for e in x}\n",
    "print(x_maiusculo)"
   ]
  },
  {
   "cell_type": "markdown",
   "metadata": {},
   "source": [
    "## Dicionários"
   ]
  },
  {
   "cell_type": "markdown",
   "metadata": {},
   "source": [
    "Um dicionário armazena pares (chave, valor), semelhante a um Mapa em Java ou um objeto em Javascript.\n",
    "\n",
    "* Um dicionario pode ser criado com {} (com :) ou com dict()\n",
    "\n",
    "* Elementos podem ser accessados com o uso de [] ou da funçao ``get``\n",
    "\n",
    "* Elementos podem ser adicionados ao dicionário atribuindo um valor ao fazer um acesso (com [])\n",
    "\n",
    "* Pode-se checar se uma chave está no dicionário com a palavra-chave ``in``\n",
    "\n",
    "* Pode-se remover um par (chave, valor) do dicionário com o uso da palavra-chave ``del``.\n",
    "\n",
    "* O tamanho do dicionário pode ser obtido com o auxílio da função ``len`\n",
    "\n",
    "* Mais informações sobre dicionários podem ser vistas na [documentação de Python sobre dicionários](https://docs.python.org/3.9/library/stdtypes.html#dict)"
   ]
  },
  {
   "cell_type": "code",
   "execution_count": 22,
   "metadata": {},
   "outputs": [
    {
     "name": "stdout",
     "output_type": "stream",
     "text": [
      "x contém os seguintes valores: {'ola': 'mundo', 'chave': 'valor', 20: 400}. Com 3 elementos. x é da classe: <class 'dict'>\n",
      "O elemento com associado a chave 'ola' é mundo\n",
      "O valor é mundo\n",
      "O valor é FIM\n",
      "'chave' esta em x? True\n",
      "x contém os seguintes valores: {'chave': 'valor', 20: 400}\n",
      "x possui 2 elementos\n"
     ]
    }
   ],
   "source": [
    "x = {\n",
    "    'ola': 'mundo',\n",
    "    'chave': 'valor',\n",
    "    20: 400\n",
    "}\n",
    "# Podemos criar dicionario com: x = dict()\n",
    "\n",
    "# Podemos acessar, ver o tamanho e o tipo da variavel x\n",
    "print(f\"x contém os seguintes valores: {x}. Com {len(x)} elementos. x é da classe: {type(x)}\")\n",
    "\n",
    "# Podemos acessar um elemento por sua chave, com []. Vamos acessar o elemento com a chave \"ola\"\n",
    "print(f\"O elemento com associado a chave 'ola' é {x['ola']}\")\n",
    "\n",
    "# Podemos acessar um elemento por sua chave com a funçao get\n",
    "y = x.get('ola')\n",
    "print(f\"O valor é {y}\")\n",
    "\n",
    "# Caso passemos outro parametros para a função get (chamado de elemento padrão, FIM abaixo), se o elemento não em quesão não for encontrado, o elemento padrão (FIM) é retornado\n",
    "y = x.get(\"kkkk\", \"FIM\")\n",
    "print(f\"O valor é {y}\")\n",
    "\n",
    "# Podemos verificar se uma chave se encontra no dicionário com a palavra-chave in (retorna um booleano)\n",
    "print(f\"'chave' esta em x? {'chave' in x}\")\n",
    "\n",
    "# Podemos remover um elemento do dicionário utilizando a palavra-chave del. Vamos remover o elemento associado a palavra \"ola\"\n",
    "del x[\"ola\"]\n",
    "print(f\"x contém os seguintes valores: {x}\")\n",
    "\n",
    "# É possivel obter a quantidade de elementos de um dicionário, com a função len\n",
    "y = len(x)\n",
    "print(f\"x possui {y} elementos\")"
   ]
  },
  {
   "cell_type": "markdown",
   "metadata": {},
   "source": [
    "Podemos iterar sobre as chaves de um dicionário,como keuw a palavra-chve in "
   ]
  },
  {
   "cell_type": "code",
   "execution_count": 23,
   "metadata": {},
   "outputs": [
    {
     "name": "stdout",
     "output_type": "stream",
     "text": [
      "A chave é ola e o valor associado é mundo\n",
      "A chave é chave e o valor associado é valor\n",
      "A chave é 20 e o valor associado é 400\n"
     ]
    }
   ],
   "source": [
    "x = {\n",
    "    'ola': 'mundo',\n",
    "    'chave': 'valor',\n",
    "    20: 400\n",
    "}\n",
    "\n",
    "for c in x:\n",
    "    print(f\"A chave é {c} e o valor associado é {x[c]}\")"
   ]
  },
  {
   "cell_type": "markdown",
   "metadata": {},
   "source": [
    "Podemos iterar sobre as chaves e valores ao mesmo tempo, utilizando a funçõa ``items()``"
   ]
  },
  {
   "cell_type": "code",
   "execution_count": 24,
   "metadata": {},
   "outputs": [
    {
     "name": "stdout",
     "output_type": "stream",
     "text": [
      "A chave é ola e o valor associado é mundo\n",
      "A chave é chave e o valor associado é valor\n",
      "A chave é 20 e o valor associado é 400\n"
     ]
    }
   ],
   "source": [
    "x = {\n",
    "    'ola': 'mundo',\n",
    "    'chave': 'valor',\n",
    "    20: 400\n",
    "}\n",
    "\n",
    "for c, v in x.items():\n",
    "    print(f\"A chave é {c} e o valor associado é {v}\")"
   ]
  },
  {
   "cell_type": "markdown",
   "metadata": {},
   "source": [
    "Por fim, podemos fazer compreensão de dicionários também"
   ]
  },
  {
   "cell_type": "code",
   "execution_count": 25,
   "metadata": {},
   "outputs": [],
   "source": [
    "numeros = [0, 1, 2, 3, 4]\n",
    "# Iterando sobre numeros e criando um dicionário onde as chaves são os numeros e os valores são os numeros ao quadrado\n",
    "# Nesta sintaxe primeiro vem a chave: valor e o for iterador\n",
    "quadrados = {n: n**2 for n in numeros}"
   ]
  },
  {
   "cell_type": "markdown",
   "metadata": {},
   "source": [
    "## Funções"
   ]
  },
  {
   "cell_type": "markdown",
   "metadata": {},
   "source": [
    "Funções em Python podem ser declaradas utilizando a palavra-chave ``def``, seguido do nome e dos parametros (são as entradas para função), entre parenteses. As funções podem retornar qualquer tipo de valor válido em Python (None, tipos padrão, containeres etc.)"
   ]
  },
  {
   "cell_type": "code",
   "execution_count": 26,
   "metadata": {},
   "outputs": [
    {
     "name": "stdout",
     "output_type": "stream",
     "text": [
      "O valor -1 é negativo\n",
      "O valor 0 é zero\n",
      "O valor 1 é positivo\n"
     ]
    }
   ],
   "source": [
    "# Dado um valor de entrada x, esta função verifica se x é positivo, negativo ou zero e retorna uma string dizendo isto\n",
    "def sign(x):\n",
    "    if x > 0:\n",
    "        return 'positivo'\n",
    "    elif x < 0:\n",
    "        return 'negativo'\n",
    "    else:\n",
    "        return 'zero'\n",
    "\n",
    "# Vamos iterar sobre 3 numeros e chamar a função\n",
    "for x in [-1, 0, 1]:\n",
    "    print(f\"O valor {x} é {sign(x)}\")"
   ]
  },
  {
   "cell_type": "markdown",
   "metadata": {},
   "source": [
    "Funções muitas das vezes definem parametros opcionais, parametros que possuem valores pré-definidos (utilizando operador ``=``). \n",
    "\n",
    "**Nota**: os parametros pre-definidos devem vir antes dos parametros opcionais.\n",
    "\n",
    "Ao chamar uma função, Python permite que os parâmetros sejam passaos por posição ou por nome. \n",
    "\n",
    "* Quando os parametros são passados por posição, o primeiro valor passado é atribuido ao primeiro parâmetro, o segundo valor passado é atribuido ao segundo parâmetro, e assim por diante\n",
    "\n",
    "* Quando os parâmetros são passados por nome, você deve espeficicar o nome do parâmetro e seu valor. Os valores dos parâmetros não necessariamente devem estar em ordem.\n",
    "\n",
    "* É possível misturar as duas abordagens, alguns parametros ser passados posicionalmente e outros por nome. Note que os parametros posicionais devem vir antes dos nomeados.\n",
    "\n",
    "Veja mais informações de funções na [documentação de funções do Python](https://docs.python.org/3.9/tutorial/controlflow.html#defining-functions)."
   ]
  },
  {
   "cell_type": "code",
   "execution_count": 27,
   "metadata": {},
   "outputs": [
    {
     "name": "stdout",
     "output_type": "stream",
     "text": [
      "Bom dia Otávio!\n",
      "BOM DIA ELIAS!\n",
      "BOM DIA RONALDO!\n",
      "BOM DIA ISABELA!\n",
      "Bom dia Pedro!\n"
     ]
    }
   ],
   "source": [
    "# Imprime um comprimento a alguem. Caso gritar seja True, o cumprimento será realizado em letras maiusculas. \n",
    "# O parametro nome é obrigatório e o parametro gritar é opcional (com valor padrão de False)\n",
    "def cumprimentar(nome, gritar=False):\n",
    "    string = f\"Bom dia {nome}!\"\n",
    "    if gritar:\n",
    "        string = string.upper()\n",
    "    print(string)\n",
    "    \n",
    "# Vamos chamar a função apenas com o parametro obrigatório (não opcional)\n",
    "cumprimentar(\"Otávio\")\n",
    "\n",
    "# Vamos chamar a função com  parametro obrigatório como True\n",
    "cumprimentar(\"Elias\", True)\n",
    "\n",
    "# Podemos chamar a função espeficicando o valor para cada parâmetro, invés de passar os parâmetros de forma posicional\n",
    "cumprimentar(nome=\"Ronaldo\", gritar=True)\n",
    "\n",
    "# Quando espeficicamos o nome dos parametros, a ordem torna-se opcional\n",
    "cumprimentar(gritar=True, nome=\"Isabela\")\n",
    "\n",
    "# Podemos misturar ambos também\n",
    "cumprimentar(\"Pedro\", gritar=False)"
   ]
  },
  {
   "cell_type": "markdown",
   "metadata": {},
   "source": [
    "Python também possui dois operadores ``*`` e ``**`` utilizados para passar parametros para funções dinamicamente. O primeiro (``*``) permite transformar uma lista (ou tupla) em parametros posicionais de uma função (chamado de unpacking de parametros). O segundo permite transformar um dicionário em parâmetros nomeados."
   ]
  },
  {
   "cell_type": "code",
   "execution_count": 28,
   "metadata": {},
   "outputs": [
    {
     "name": "stdout",
     "output_type": "stream",
     "text": [
      "BOM DIA BOB!\n",
      "BOM DIA ALICE!\n"
     ]
    }
   ],
   "source": [
    "# Imprime um comprimento a alguem. Caso gritar seja True, o cumprimento será realizado em letras maiusculas. \n",
    "# O parametro nome é obrigatório e o parametro gritar é opcional (com valor padrão de False)\n",
    "def cumprimentar(nome, gritar=False):\n",
    "    string = f\"Bom dia {nome}!\"\n",
    "    if gritar:\n",
    "        string = string.upper()\n",
    "    print(string)\n",
    "    \n",
    "parametros = [\"Bob\", True]\n",
    "# Vamos chamar a função cumprimentar passando os elementos da lista como parametros para função (em ordem)\n",
    "cumprimentar(*parametros)\n",
    "\n",
    "parametros = {\"nome\": \"Alice\", \"gritar\": True}\n",
    "# Vamos chamar a função cumprimentar passando os valores de um dicionario como parametros nomeados para a função\n",
    "cumprimentar(**parametros)"
   ]
  },
  {
   "cell_type": "markdown",
   "metadata": {},
   "source": [
    "## Classes\n",
    "\n",
    "Python possui uma sintaxe simples para definir classes. Uma classe possui atriutos (variáveis), que são definidas no método ``__init__`` (método chamado quando um objeto da classe é instanciado) e métodos (funções).\n",
    "\n",
    "* Os atributos da classe devem ser criados no método ``__init__``. Utilize ``self.XXX = valor`` onde ``XXX`` é o nome da variável e valor, um valor qualquer para variável. \n",
    "\n",
    "* Um objeto primeiro da classe primeiro deve ser instanciado (passando os parametros necessários para a função ``__init__``) e depois então os métodos da classe podem ser utilizados.\n",
    "\n",
    "* Todo método da classe deve iniciar possuir o primeiro parametro sendo self\n",
    "\n",
    "* Mais informações podem ser encontradas na [documentação de classes do Python](https://docs.python.org/3.9/tutorial/classes.html)"
   ]
  },
  {
   "cell_type": "code",
   "execution_count": 29,
   "metadata": {},
   "outputs": [
    {
     "name": "stdout",
     "output_type": "stream",
     "text": [
      "<class '__main__.Cumprimentador'>\n",
      "Bom dia Curry!\n",
      "BOM DIA CURRY!\n"
     ]
    }
   ],
   "source": [
    "class Cumprimentador(object):\n",
    "    def __init__(self, nome):\n",
    "        self.nome = nome\n",
    "        \n",
    "    def cumprimentar(self, gritar=False):\n",
    "        if gritar:\n",
    "            print(f\"Bom dia {self.nome}!\".upper())\n",
    "        else:\n",
    "            print(f\"Bom dia {self.nome}!\")\n",
    "            \n",
    "# Primeiro vamos instanciar um objeto da classe Cumprimentador\n",
    "c = Cumprimentador(\"Curry\")\n",
    "# Vamos ver seu tipo\n",
    "print(type(c))\n",
    "# Agora vamos chamar a função cumprimentar, da classe Cumprimentador\n",
    "c.cumprimentar()\n",
    "# E passando um parametro...\n",
    "c.cumprimentar(True)"
   ]
  },
  {
   "cell_type": "markdown",
   "metadata": {},
   "source": [
    "## Documentando os tipos"
   ]
  },
  {
   "cell_type": "markdown",
   "metadata": {},
   "source": [
    "A partir da versão 3.5 de Python é possível dizer quais o tipo exigido para os parâmetros de uma função (apesar dos tipos não serem checados, apenas como documentação).\n",
    "Os tipos das variáveis/paramêtros devem vir com ``:`` após o nome. "
   ]
  },
  {
   "cell_type": "code",
   "execution_count": 30,
   "metadata": {},
   "outputs": [],
   "source": [
    "def cumprimentar(nome: str, gritar: bool = True):\n",
    "    string: str = f\"Bom dia {nome}!\"\n",
    "    if gritar:\n",
    "        string = string.upper()\n",
    "    print(string)"
   ]
  },
  {
   "cell_type": "markdown",
   "metadata": {},
   "source": [
    "## Erros comums e exceções"
   ]
  },
  {
   "cell_type": "markdown",
   "metadata": {},
   "source": [
    "Ao realizar operações entre tipos operandos não equivalentes, uma exceção do tipo ``TypeError`` será levantada."
   ]
  },
  {
   "cell_type": "code",
   "execution_count": 31,
   "metadata": {},
   "outputs": [
    {
     "ename": "TypeError",
     "evalue": "unsupported operand type(s) for +: 'bool' and 'str'",
     "output_type": "error",
     "traceback": [
      "\u001b[0;31m---------------------------------------------------------------------------\u001b[0m",
      "\u001b[0;31mTypeError\u001b[0m                                 Traceback (most recent call last)",
      "\u001b[0;32m<ipython-input-31-c28213e515f8>\u001b[0m in \u001b[0;36m<module>\u001b[0;34m\u001b[0m\n\u001b[1;32m      2\u001b[0m \u001b[0mb\u001b[0m\u001b[0;34m:\u001b[0m \u001b[0mstr\u001b[0m \u001b[0;34m=\u001b[0m \u001b[0;34m\"nome\"\u001b[0m\u001b[0;34m\u001b[0m\u001b[0;34m\u001b[0m\u001b[0m\n\u001b[1;32m      3\u001b[0m \u001b[0;31m# Não é possivel utilizar o operador + entre string e booleanos\u001b[0m\u001b[0;34m\u001b[0m\u001b[0;34m\u001b[0m\u001b[0;34m\u001b[0m\u001b[0m\n\u001b[0;32m----> 4\u001b[0;31m \u001b[0ma\u001b[0m \u001b[0;34m+\u001b[0m \u001b[0mb\u001b[0m\u001b[0;34m\u001b[0m\u001b[0;34m\u001b[0m\u001b[0m\n\u001b[0m",
      "\u001b[0;31mTypeError\u001b[0m: unsupported operand type(s) for +: 'bool' and 'str'"
     ]
    }
   ],
   "source": [
    "a: bool = True\n",
    "b: str = \"nome\"\n",
    "# Não é possivel utilizar o operador + entre string e booleanos\n",
    "a + b"
   ]
  },
  {
   "cell_type": "markdown",
   "metadata": {},
   "source": [
    "Ao acessar um elemento de uma lista que é inacessivel (maior que o número de elementos) uma exceção do tipo ``IndexError`` é levantada"
   ]
  },
  {
   "cell_type": "code",
   "execution_count": 32,
   "metadata": {},
   "outputs": [
    {
     "ename": "IndexError",
     "evalue": "list index out of range",
     "output_type": "error",
     "traceback": [
      "\u001b[0;31m---------------------------------------------------------------------------\u001b[0m",
      "\u001b[0;31mIndexError\u001b[0m                                Traceback (most recent call last)",
      "\u001b[0;32m<ipython-input-32-ac0bc262c652>\u001b[0m in \u001b[0;36m<module>\u001b[0;34m\u001b[0m\n\u001b[1;32m      1\u001b[0m \u001b[0ma\u001b[0m \u001b[0;34m=\u001b[0m \u001b[0;34m[\u001b[0m\u001b[0;36m1\u001b[0m\u001b[0;34m,\u001b[0m\u001b[0;36m2\u001b[0m\u001b[0;34m,\u001b[0m\u001b[0;36m3\u001b[0m\u001b[0;34m]\u001b[0m\u001b[0;34m\u001b[0m\u001b[0;34m\u001b[0m\u001b[0m\n\u001b[0;32m----> 2\u001b[0;31m \u001b[0ma\u001b[0m\u001b[0;34m[\u001b[0m\u001b[0;36m4\u001b[0m\u001b[0;34m]\u001b[0m     \u001b[0;31m# A lista só tem 3 elementos....\u001b[0m\u001b[0;34m\u001b[0m\u001b[0;34m\u001b[0m\u001b[0m\n\u001b[0m",
      "\u001b[0;31mIndexError\u001b[0m: list index out of range"
     ]
    }
   ],
   "source": [
    "a = [1,2,3]\n",
    "a[4]     # A lista só tem 3 elementos...."
   ]
  },
  {
   "cell_type": "markdown",
   "metadata": {},
   "source": [
    "Ao utilizar um tipo errado para acessar uma lista uma exceção do tipo ``TypeError`` é levantada"
   ]
  },
  {
   "cell_type": "code",
   "execution_count": 33,
   "metadata": {},
   "outputs": [
    {
     "ename": "TypeError",
     "evalue": "list indices must be integers or slices, not NoneType",
     "output_type": "error",
     "traceback": [
      "\u001b[0;31m---------------------------------------------------------------------------\u001b[0m",
      "\u001b[0;31mTypeError\u001b[0m                                 Traceback (most recent call last)",
      "\u001b[0;32m<ipython-input-33-6eb1cc1c8263>\u001b[0m in \u001b[0;36m<module>\u001b[0;34m\u001b[0m\n\u001b[1;32m      1\u001b[0m \u001b[0ma\u001b[0m \u001b[0;34m=\u001b[0m \u001b[0;34m[\u001b[0m\u001b[0;36m1\u001b[0m\u001b[0;34m,\u001b[0m\u001b[0;36m2\u001b[0m\u001b[0;34m,\u001b[0m\u001b[0;36m3\u001b[0m\u001b[0;34m]\u001b[0m\u001b[0;34m\u001b[0m\u001b[0;34m\u001b[0m\u001b[0m\n\u001b[0;32m----> 2\u001b[0;31m \u001b[0ma\u001b[0m\u001b[0;34m[\u001b[0m\u001b[0;32mNone\u001b[0m\u001b[0;34m]\u001b[0m\u001b[0;34m\u001b[0m\u001b[0;34m\u001b[0m\u001b[0m\n\u001b[0m",
      "\u001b[0;31mTypeError\u001b[0m: list indices must be integers or slices, not NoneType"
     ]
    }
   ],
   "source": [
    "a = [1,2,3]\n",
    "a[None]"
   ]
  },
  {
   "cell_type": "code",
   "execution_count": 34,
   "metadata": {},
   "outputs": [
    {
     "ename": "TypeError",
     "evalue": "list indices must be integers or slices, not float",
     "output_type": "error",
     "traceback": [
      "\u001b[0;31m---------------------------------------------------------------------------\u001b[0m",
      "\u001b[0;31mTypeError\u001b[0m                                 Traceback (most recent call last)",
      "\u001b[0;32m<ipython-input-34-a1488bdc2e36>\u001b[0m in \u001b[0;36m<module>\u001b[0;34m\u001b[0m\n\u001b[1;32m      1\u001b[0m \u001b[0ma\u001b[0m \u001b[0;34m=\u001b[0m \u001b[0;34m[\u001b[0m\u001b[0;36m1\u001b[0m\u001b[0;34m,\u001b[0m\u001b[0;36m2\u001b[0m\u001b[0;34m,\u001b[0m\u001b[0;36m3\u001b[0m\u001b[0;34m]\u001b[0m\u001b[0;34m\u001b[0m\u001b[0;34m\u001b[0m\u001b[0m\n\u001b[0;32m----> 2\u001b[0;31m \u001b[0ma\u001b[0m\u001b[0;34m[\u001b[0m\u001b[0;36m2.3\u001b[0m\u001b[0;34m]\u001b[0m\u001b[0;34m\u001b[0m\u001b[0;34m\u001b[0m\u001b[0m\n\u001b[0m",
      "\u001b[0;31mTypeError\u001b[0m: list indices must be integers or slices, not float"
     ]
    }
   ],
   "source": [
    "a = [1,2,3]\n",
    "a[2.3]"
   ]
  },
  {
   "cell_type": "markdown",
   "metadata": {},
   "source": [
    "Ao acessar um elemento do dicionário onde a chave não existe, uma exceção do tipo ``KeyError`` é levantada"
   ]
  },
  {
   "cell_type": "code",
   "execution_count": 35,
   "metadata": {},
   "outputs": [
    {
     "ename": "KeyError",
     "evalue": "'x'",
     "output_type": "error",
     "traceback": [
      "\u001b[0;31m---------------------------------------------------------------------------\u001b[0m",
      "\u001b[0;31mKeyError\u001b[0m                                  Traceback (most recent call last)",
      "\u001b[0;32m<ipython-input-35-2ac6c0c7641f>\u001b[0m in \u001b[0;36m<module>\u001b[0;34m\u001b[0m\n\u001b[1;32m      1\u001b[0m \u001b[0ma\u001b[0m \u001b[0;34m=\u001b[0m \u001b[0;34m{\u001b[0m\u001b[0;34m\"ola\"\u001b[0m\u001b[0;34m:\u001b[0m \u001b[0;34m\"mundo\"\u001b[0m\u001b[0;34m,\u001b[0m \u001b[0;36m1\u001b[0m\u001b[0;34m:\u001b[0m \u001b[0;36m2\u001b[0m\u001b[0;34m}\u001b[0m\u001b[0;34m\u001b[0m\u001b[0;34m\u001b[0m\u001b[0m\n\u001b[1;32m      2\u001b[0m \u001b[0;31m# Vamos acessar a chave \"x\" do dicionário\u001b[0m\u001b[0;34m\u001b[0m\u001b[0;34m\u001b[0m\u001b[0;34m\u001b[0m\u001b[0m\n\u001b[0;32m----> 3\u001b[0;31m \u001b[0ma\u001b[0m\u001b[0;34m[\u001b[0m\u001b[0;34m\"x\"\u001b[0m\u001b[0;34m]\u001b[0m\u001b[0;34m\u001b[0m\u001b[0;34m\u001b[0m\u001b[0m\n\u001b[0m",
      "\u001b[0;31mKeyError\u001b[0m: 'x'"
     ]
    }
   ],
   "source": [
    "a = {\"ola\": \"mundo\", 1: 2}\n",
    "# Vamos acessar a chave \"x\" do dicionário\n",
    "a[\"x\"]"
   ]
  },
  {
   "cell_type": "markdown",
   "metadata": {},
   "source": [
    "Para mais informaçoes das exceções, acesse a [documentação sobre erros e exceções do Python](https://docs.python.org/3.9/tutorial/errors.html).\n",
    "\n",
    "Além disso, lembre-se que o Google é seu amigo! Ao ter um erro, copie o erro e cole no Google! Assim como você alguém já deve ter passado por um problema similar ao seu!"
   ]
  }
 ],
 "metadata": {
  "kernelspec": {
   "display_name": "Python 3",
   "language": "python",
   "name": "python3"
  },
  "language_info": {
   "codemirror_mode": {
    "name": "ipython",
    "version": 3
   },
   "file_extension": ".py",
   "mimetype": "text/x-python",
   "name": "python",
   "nbconvert_exporter": "python",
   "pygments_lexer": "ipython3",
   "version": "3.6.9"
  }
 },
 "nbformat": 4,
 "nbformat_minor": 4
}
