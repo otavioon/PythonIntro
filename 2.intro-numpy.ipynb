{
 "cells": [
  {
   "cell_type": "markdown",
   "metadata": {},
   "source": [
    "# Introcução a Numpy\n",
    "\n",
    "[Numpy](https://numpy.org/) é a biblioteca central para computação científica em Python. Ele fornece um objeto de matriz multidimensional de alto desempenho e ferramentas para trabalhar com essas matrizes.\n",
    "\n",
    "Para iniciarmos, importaremos a biblioteca numpy e a chamaremos por np ao longo dos códigos. Caso não tenha o numpy instalado, você pode facilmente instalá-lo utilizando o pip (``pip install numpy``)"
   ]
  },
  {
   "cell_type": "code",
   "execution_count": 1,
   "metadata": {},
   "outputs": [],
   "source": [
    "import numpy as np"
   ]
  },
  {
   "cell_type": "markdown",
   "metadata": {},
   "source": [
    "## Arrays\n",
    "\n",
    "Uma matriz em numpy é uma matriz de valores do mesmo tipo (chamado de ``dtype``). O número de dimensões de uma matriz é chamada de *rank*. A forma de uma matriz (*shape*) é uma tupla de inteiros fornecendo o tamanho da matriz ao longo de cada dimensão. \n",
    "\n",
    "As matrizes podem ser inicializadas de diversas formas:\n",
    "* Através de listas ou listas aninhadas, utilizando a funçao ``array``\n",
    "\n",
    "* Matrizes de zeros ou uns, com as funções ``zeros`` ou ``ones``\n",
    "\n",
    "* Com números aleatórios, com a função ``random.random``\n",
    "\n",
    "* Sem nenhum elemento, com a função ``empty``\n",
    "\n",
    "* Uma matriz identidade, com a função ``eye``\n",
    "\n",
    "* Uma matriz com elementos constantes, com a função ``full``\n",
    "\n",
    "* Com intervalos, com a função ``arange``\n",
    "\n",
    "* Entre outros"
   ]
  },
  {
   "cell_type": "code",
   "execution_count": 8,
   "metadata": {},
   "outputs": [
    {
     "name": "stdout",
     "output_type": "stream",
     "text": [
      "[1.2 2.2 3.2]\n",
      "---------\n",
      "[[10 20 30]\n",
      " [40 50 60]]\n",
      "---------\n",
      "Forma de x: (3,). Tipo dos elementos: float64\n",
      "Forma de y: (2, 3). Tipo dos elementos: int64\n"
     ]
    }
   ],
   "source": [
    "a = [1.2, 2.2, 3.2]\n",
    "b = [[10, 20,30], [40, 50, 60]]\n",
    "\n",
    "x = np.array(a)\n",
    "print(x)\n",
    "print(\"---------\")\n",
    "\n",
    "y = np.array(b)\n",
    "print(y)\n",
    "print(\"---------\")\n",
    "\n",
    "print(f\"Forma de x: {x.shape}. Tipo dos elementos: {x.dtype}\")\n",
    "print(f\"Forma de y: {y.shape}. Tipo dos elementos: {y.dtype}\")"
   ]
  },
  {
   "cell_type": "code",
   "execution_count": 11,
   "metadata": {},
   "outputs": [
    {
     "name": "stdout",
     "output_type": "stream",
     "text": [
      "[[0. 0.]\n",
      " [0. 0.]]\n",
      "Forma de x: (2, 2). Tipo dos elementos: float64\n",
      "---------\n",
      "[[[1. 1.]\n",
      "  [1. 1.]]\n",
      "\n",
      " [[1. 1.]\n",
      "  [1. 1.]]]\n",
      "Forma de y: (2, 2, 2). Tipo dos elementos: float64\n",
      "---------\n",
      "[[0.86092934 0.20699571 0.30553429]\n",
      " [0.92945455 0.99882481 0.88809106]\n",
      " [0.51864817 0.64228192 0.88091856]]\n",
      "Forma de z: (3, 3). Tipo dos elementos: float64\n",
      "---------\n"
     ]
    }
   ],
   "source": [
    "x = np.zeros((2,2))\n",
    "print(x)\n",
    "print(f\"Forma de x: {x.shape}. Tipo dos elementos: {x.dtype}\")\n",
    "print(\"---------\")\n",
    "\n",
    "y = np.ones((2,2,2))\n",
    "print(y)\n",
    "print(f\"Forma de y: {y.shape}. Tipo dos elementos: {y.dtype}\")\n",
    "print(\"---------\")\n",
    "\n",
    "z = np.random.random((3,3))\n",
    "print(z)\n",
    "print(f\"Forma de z: {z.shape}. Tipo dos elementos: {z.dtype}\")\n",
    "print(\"---------\")"
   ]
  },
  {
   "cell_type": "code",
   "execution_count": 14,
   "metadata": {},
   "outputs": [
    {
     "name": "stdout",
     "output_type": "stream",
     "text": [
      "[[1. 0. 0. 0.]\n",
      " [0. 1. 0. 0.]\n",
      " [0. 0. 1. 0.]\n",
      " [0. 0. 0. 1.]]\n",
      "Forma de x: (4, 4). Tipo dos elementos: float64\n",
      "---------\n",
      "[[3.14 3.14]\n",
      " [3.14 3.14]]\n",
      "Forma de y: (2, 2). Tipo dos elementos: float64\n",
      "---------\n",
      "[0 1 2 3 4 5 6 7 8 9]\n",
      "Forma de z: (10,). Tipo dos elementos: int64\n",
      "---------\n"
     ]
    }
   ],
   "source": [
    "x = np.eye(4)\n",
    "print(x)\n",
    "print(f\"Forma de x: {x.shape}. Tipo dos elementos: {x.dtype}\")\n",
    "print(\"---------\")\n",
    "\n",
    "y = np.full((2,2), 3.14)\n",
    "print(y)\n",
    "print(f\"Forma de y: {y.shape}. Tipo dos elementos: {y.dtype}\")\n",
    "print(\"---------\")\n",
    "\n",
    "z = np.arange(10)\n",
    "print(z)\n",
    "print(f\"Forma de z: {z.shape}. Tipo dos elementos: {z.dtype}\")\n",
    "print(\"---------\")"
   ]
  },
  {
   "cell_type": "markdown",
   "metadata": {},
   "source": [
    "## Indexação de Matrizes\n",
    "\n",
    "Uma matriz pode ser [indexada de diversas formas](https://numpy.org/doc/stable/user/quickstart.html#quickstart-indexing-slicing-and-iterating), por uma tupla de inteiros não-negativos, por expressões booleanas, por outra matriz ou por inteiros. \n",
    "\n",
    "**Fatias**: Semelhante às listas Python, arrays entorpecidos podem ser fatiados. Como as matrizes podem ser multidimensionais, você deve especificar uma fatia para cada dimensão da matriz."
   ]
  },
  {
   "cell_type": "code",
   "execution_count": 16,
   "metadata": {},
   "outputs": [
    {
     "name": "stdout",
     "output_type": "stream",
     "text": [
      "[[ 1  2  3  4]\n",
      " [ 5  6  7  8]\n",
      " [ 9 10 11 12]]\n",
      "----------\n",
      "[[2 3]\n",
      " [6 7]]\n",
      "----------\n",
      "77\n"
     ]
    }
   ],
   "source": [
    "x = np.array([[1,2,3,4], [5,6,7,8], [9,10,11,12]])\n",
    "print(x)\n",
    "print(\"----------\")\n",
    "\n",
    "y = x[:2, 1:3]\n",
    "print(y) \n",
    "print(\"----------\")\n",
    "\n",
    "y[0, 0] = 77 \n",
    "print(x[0, 1])   # Prints \"77\""
   ]
  }
 ],
 "metadata": {
  "kernelspec": {
   "display_name": "Python 3",
   "language": "python",
   "name": "python3"
  },
  "language_info": {
   "codemirror_mode": {
    "name": "ipython",
    "version": 3
   },
   "file_extension": ".py",
   "mimetype": "text/x-python",
   "name": "python",
   "nbconvert_exporter": "python",
   "pygments_lexer": "ipython3",
   "version": "3.6.9"
  }
 },
 "nbformat": 4,
 "nbformat_minor": 4
}
